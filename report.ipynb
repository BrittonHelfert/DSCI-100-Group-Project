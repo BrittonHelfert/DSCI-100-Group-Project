{
 "cells": [
  {
   "cell_type": "markdown",
   "metadata": {},
   "source": [
    "# Predicting Abalone Age\n",
    "\n",
    "Abalones are a rare type of marine snail found in cold coastal saltwater and highly valued for their culinary uses. It’s popularity has led to overharvesting, rendering it even rarer and more expensive. Assessing the age of these organisms is a tedious task that requires cutting open the snail’s shell, staining it, and counting the individual rings under a microscope. Therefore, we wish to design a model that will **predict their age** through other easier to obtain measurements, such as physical dimensions and weight.\n",
    "\n",
    "The [dataset](https://archive.ics.uci.edu/ml/datasets/Abalone) contains 4,177 observations and 9 columns: sex (either M, F, or I for infant); length, diameter, and height in mm; whole weight, shucked weight (without shell), viscera weight (after bleeding), and shell weight in grams; and number of rings (approximately 1.5 less than the age). After the design of the model, we will evaluate the mean squared error of our predictions to answer the question: how well can we predict the age of an abalone snail from its size, sex, and weight?"
   ]
  }
 ],
 "metadata": {
  "kernelspec": {
   "display_name": "R",
   "language": "R",
   "name": "ir"
  },
  "language_info": {
   "codemirror_mode": "r",
   "file_extension": ".r",
   "mimetype": "text/x-r-source",
   "name": "R",
   "pygments_lexer": "r",
   "version": "4.0.0"
  }
 },
 "nbformat": 4,
 "nbformat_minor": 4
}
