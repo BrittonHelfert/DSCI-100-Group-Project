{
 "cells": [
  {
   "cell_type": "markdown",
   "metadata": {},
   "source": [
    "# Predicting Abalone Age\n",
    "\n",
    "Abalones are a rare type of marine snail found in cold coastal saltwater and highly valued for their culinary uses. It’s popularity has led to overharvesting, rendering it even rarer and more expensive. Assessing the age of these organisms is a tedious task that requires cutting open the snail’s shell, staining it, and counting the individual rings under a microscope. Therefore, we wish to design a model that will **predict their age** through other easier to obtain measurements, such as physical dimensions and weight.\n",
    "\n",
    "The [dataset](https://archive.ics.uci.edu/ml/datasets/Abalone) contains 4,177 observations and 9 columns: sex (either M, F, or I for infant); length, diameter, and height in mm; whole weight, shucked weight (without shell), viscera weight (after bleeding), and shell weight in grams; and number of rings (approximately 1.5 less than the age). After the design of the model, we will evaluate the mean squared error of our predictions to answer the question: how well can we predict the age of an abalone snail from its size, sex, and weight?"
   ]
  },
  {
   "cell_type": "markdown",
   "metadata": {},
   "source": [
    "### Two Literatures\n",
    "\n",
    "* Prediction of abalone age using regression-based neural network: Predicting the age of abalone is important because it can help farmers and sellers determine the market price of abalone. The economic value of abalone is positively correlated with their respective ages. Similar to our research, the researchers also estimate the age of the abalone by measuring the number of layers of the shell ring, and the data are all obtained from the UCI machine learning library. The difference is that the researchers used artificial neural networks (ANN) instead of our linear regression. In any case, the final lower root-mean-squared error value represents that the difference between the predicted value and the actual value is very close, which proves the researcher's hypothesis: the more the number of circles, the older the age.\n",
    "\n",
    "* A new method of measuring the age of abalone based on data visualization analysis: Similarly, the researchers in this article also used multiple linear regression and multi-dimensional abalone data to predict the age of abalone. The analysis not only proves that it is easier to predict the age of the abalone using the physical data of abalone, but also proves that the significance analysis and residual analysis of the model also meet certain criteria. "
   ]
  },
  {
   "cell_type": "markdown",
   "metadata": {},
   "source": [
    "### Reference\n",
    "\n",
    "- Guo, R., Luo, J., & Gao, W. (2021). A new method of measuring the age of abalone based on data visualization analysis. Journal of Physics. Conference Series, 1744(4), 42181. https://doi.org/10.1088/1742-6596/1744/4/042181\n",
    "\n",
    "- Misman, M. F., Samah, A. A., Aziz, N. A. A., Majid, H. A., Shah, Z. A., Hashim, H., & Harun, M. F. (2019). Prediction of abalone age using regression-based neural network. Paper presented at the 23-28. https://doi.org/10.1109/AiDAS47888.2019.8970983\n",
    "\n",
    "- Nash, W., Sellers, T., Talbot, S., Cawthorn, A., & Ford, W. (1994). UCI Machine Learning Repository: Abalone Data Set. Archive.ics.uci.edu. https://archive.ics.uci.edu/ml/datasets/Abalone. "
   ]
  }
 ],
 "metadata": {
  "kernelspec": {
   "display_name": "R",
   "language": "R",
   "name": "ir"
  },
  "language_info": {
   "codemirror_mode": "r",
   "file_extension": ".r",
   "mimetype": "text/x-r-source",
   "name": "R",
   "pygments_lexer": "r",
   "version": "4.0.0"
  }
 },
 "nbformat": 4,
 "nbformat_minor": 4
}
