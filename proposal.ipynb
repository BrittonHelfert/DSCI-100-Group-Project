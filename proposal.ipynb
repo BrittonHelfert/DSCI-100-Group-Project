{
 "cells": [
  {
   "cell_type": "markdown",
   "metadata": {},
   "source": [
    "# Predicting Abalone Age\n",
    "\n",
    "Abalones are a rare type of marine snail found in cold coastal saltwater and highly valued for their culinary uses. The common name abalone refers to a number of large gastropod molluscs in the family *Haliotidae*. It’s popularity as a culinary delicacy has caused great pressure on the species due to overharvesting, in turn rendering it even rarer and more expensive. Assessing the age of these organisms, whether for purposes of conservation, harvesting, or research, is a tedious task that requires cutting open the snail’s shell, staining it, and counting the individual rings under a microscope. For this reason, we wish to design a model that will **predict the age of abalones** through other measurements, such as physical dimensions and weight, using regression.\n",
    "\n",
    "The dataset we will use contains 4,177 observations and 9 columns: sex (either M, F, or I for infant), length in mm, diameter in mm, height in mm, whole weight in grams, shucked weight in grams (without shell), viscera weight in grams (after bleeding), shell weight in grams, and finally number of rings, which is approximately 1.5 less than the age of the snail. After the design of the model, we will evaluate the accuracy of our predictions to answer the question: how well can we predict the age of an abalone snail from its size (length and diameter), sex, and weight (whole, shucked, viscera, and shell)?"
   ]
  },
  {
   "cell_type": "markdown",
   "metadata": {},
   "source": [
    "## Setup code"
   ]
  },
  {
   "cell_type": "code",
   "execution_count": 12,
   "metadata": {},
   "outputs": [
    {
     "name": "stderr",
     "output_type": "stream",
     "text": [
      "Warning message in set.seed(695624153456):\n",
      "“NAs introduced by coercion to integer range”\n"
     ]
    },
    {
     "ename": "ERROR",
     "evalue": "Error in set.seed(695624153456): supplied seed is not a valid integer\n",
     "output_type": "error",
     "traceback": [
      "Error in set.seed(695624153456): supplied seed is not a valid integer\nTraceback:\n",
      "1. set.seed(695624153456)"
     ]
    }
   ],
   "source": [
    "library(tidyverse)\n",
    "library(tidymodels)\n",
    "download.file('https://archive.ics.uci.edu/ml/machine-learning-databases/abalone/abalone.data', 'data.csv')\n",
    "set.seed(695624153456)"
   ]
  },
  {
   "cell_type": "markdown",
   "metadata": {},
   "source": [
    "## Loading and wrangling data"
   ]
  },
  {
   "cell_type": "code",
   "execution_count": 13,
   "metadata": {},
   "outputs": [
    {
     "name": "stderr",
     "output_type": "stream",
     "text": [
      "Parsed with column specification:\n",
      "cols(\n",
      "  sex = \u001b[31mcol_character()\u001b[39m,\n",
      "  length = \u001b[32mcol_double()\u001b[39m,\n",
      "  diameter = \u001b[32mcol_double()\u001b[39m,\n",
      "  height = \u001b[32mcol_double()\u001b[39m,\n",
      "  whole_weight = \u001b[32mcol_double()\u001b[39m,\n",
      "  shucked_weight = \u001b[32mcol_double()\u001b[39m,\n",
      "  viscera_weight = \u001b[32mcol_double()\u001b[39m,\n",
      "  shell_weight = \u001b[32mcol_double()\u001b[39m,\n",
      "  rings = \u001b[32mcol_double()\u001b[39m\n",
      ")\n",
      "\n"
     ]
    }
   ],
   "source": [
    "abalone <- read_csv('data.csv', col_names = c(\n",
    "    'sex',\n",
    "    'length',\n",
    "    'diameter',\n",
    "    'height',\n",
    "    'whole_weight',\n",
    "    'shucked_weight',\n",
    "    'viscera_weight',\n",
    "    'shell_weight',\n",
    "    'rings'\n",
    "))\n",
    "\n",
    "abalone <- abalone %>%\n",
    "    mutate(sex = as_factor(sex)) %>%\n",
    "    mutate(age = rings + 1.5) %>%\n",
    "    select(sex, length, diameter, height, whole_weight, age)\n",
    "\n",
    "abalone_split <- initial_split(abalone, prop = 0.75, strata = age)\n",
    "abalone_training <- training(abalone_split)\n",
    "abalone_testing <- testing(abalone_split)"
   ]
  },
  {
   "cell_type": "markdown",
   "metadata": {},
   "source": [
    "## Summarization"
   ]
  },
  {
   "cell_type": "markdown",
   "metadata": {},
   "source": [
    "## Visualization"
   ]
  },
  {
   "cell_type": "markdown",
   "metadata": {},
   "source": [
    "## Methods"
   ]
  }
 ],
 "metadata": {
  "kernelspec": {
   "display_name": "R",
   "language": "R",
   "name": "ir"
  },
  "language_info": {
   "codemirror_mode": "r",
   "file_extension": ".r",
   "mimetype": "text/x-r-source",
   "name": "R",
   "pygments_lexer": "r",
   "version": "4.0.0"
  }
 },
 "nbformat": 4,
 "nbformat_minor": 4
}
