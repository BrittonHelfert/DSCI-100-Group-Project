{
 "cells": [
  {
   "cell_type": "markdown",
   "metadata": {},
   "source": [
    "# Predicting Abalone Age\n",
    "\n",
    "Abalones are a rare type of marine snail found in cold coastal saltwater and highly valued for their culinary uses. The common name abalone refers to a number of large gastropod molluscs in the family *Haliotidae*. It’s popularity as a culinary delicacy has caused great pressure on the species due to overharvesting, in turn rendering it even rarer and more expensive. Assessing the age of these organisms, whether for purposes of conservation, harvesting, or research, is a tedious task that requires cutting open the snail’s shell, staining it, and counting the individual rings under a microscope. For this reason, we wish to design a model that will **predict the age of abalones** through other measurements, such as physical dimensions and weight, using regression.\n",
    "\n",
    "The dataset we will use contains 4,177 observations and 9 columns: sex (either M, F, or I for infant), length in mm, diameter in mm, height in mm, whole weight in grams, shucked weight in grams (without shell), viscera weight in grams (after bleeding), shell weight in grams, and finally number of rings, which is approximately 1.5 less than the age of the snail. After the design of the model, we will evaluate the accuracy of our predictions to answer the question: how well can we predict the age of an abalone snail from its size (length and diameter), sex, and weight (whole, shucked, viscera, and shell)?"
   ]
  },
  {
   "cell_type": "markdown",
   "metadata": {},
   "source": [
    "## Setup code"
   ]
  },
  {
   "cell_type": "code",
   "execution_count": 2,
   "metadata": {},
   "outputs": [
    {
     "name": "stderr",
     "output_type": "stream",
     "text": [
      "── \u001b[1mAttaching packages\u001b[22m ─────────────────────────────────────── tidyverse 1.3.0 ──\n",
      "\n",
      "\u001b[32m✔\u001b[39m \u001b[34mggplot2\u001b[39m 3.3.2     \u001b[32m✔\u001b[39m \u001b[34mpurrr  \u001b[39m 0.3.4\n",
      "\u001b[32m✔\u001b[39m \u001b[34mtibble \u001b[39m 3.0.3     \u001b[32m✔\u001b[39m \u001b[34mdplyr  \u001b[39m 1.0.2\n",
      "\u001b[32m✔\u001b[39m \u001b[34mtidyr  \u001b[39m 1.1.2     \u001b[32m✔\u001b[39m \u001b[34mstringr\u001b[39m 1.4.0\n",
      "\u001b[32m✔\u001b[39m \u001b[34mreadr  \u001b[39m 1.3.1     \u001b[32m✔\u001b[39m \u001b[34mforcats\u001b[39m 0.5.0\n",
      "\n",
      "Warning message:\n",
      "“package ‘ggplot2’ was built under R version 4.0.1”\n",
      "Warning message:\n",
      "“package ‘tibble’ was built under R version 4.0.2”\n",
      "Warning message:\n",
      "“package ‘tidyr’ was built under R version 4.0.2”\n",
      "Warning message:\n",
      "“package ‘dplyr’ was built under R version 4.0.2”\n",
      "── \u001b[1mConflicts\u001b[22m ────────────────────────────────────────── tidyverse_conflicts() ──\n",
      "\u001b[31m✖\u001b[39m \u001b[34mdplyr\u001b[39m::\u001b[32mfilter()\u001b[39m masks \u001b[34mstats\u001b[39m::filter()\n",
      "\u001b[31m✖\u001b[39m \u001b[34mdplyr\u001b[39m::\u001b[32mlag()\u001b[39m    masks \u001b[34mstats\u001b[39m::lag()\n",
      "\n",
      "Warning message:\n",
      "“package ‘tidymodels’ was built under R version 4.0.2”\n",
      "── \u001b[1mAttaching packages\u001b[22m ────────────────────────────────────── tidymodels 0.1.1 ──\n",
      "\n",
      "\u001b[32m✔\u001b[39m \u001b[34mbroom    \u001b[39m 0.7.0      \u001b[32m✔\u001b[39m \u001b[34mrecipes  \u001b[39m 0.1.13\n",
      "\u001b[32m✔\u001b[39m \u001b[34mdials    \u001b[39m 0.0.9      \u001b[32m✔\u001b[39m \u001b[34mrsample  \u001b[39m 0.0.7 \n",
      "\u001b[32m✔\u001b[39m \u001b[34minfer    \u001b[39m 0.5.4      \u001b[32m✔\u001b[39m \u001b[34mtune     \u001b[39m 0.1.1 \n",
      "\u001b[32m✔\u001b[39m \u001b[34mmodeldata\u001b[39m 0.0.2      \u001b[32m✔\u001b[39m \u001b[34mworkflows\u001b[39m 0.2.0 \n",
      "\u001b[32m✔\u001b[39m \u001b[34mparsnip  \u001b[39m 0.1.3      \u001b[32m✔\u001b[39m \u001b[34myardstick\u001b[39m 0.0.7 \n",
      "\n",
      "Warning message:\n",
      "“package ‘broom’ was built under R version 4.0.2”\n",
      "Warning message:\n",
      "“package ‘dials’ was built under R version 4.0.2”\n",
      "Warning message:\n",
      "“package ‘infer’ was built under R version 4.0.3”\n",
      "Warning message:\n",
      "“package ‘modeldata’ was built under R version 4.0.1”\n",
      "Warning message:\n",
      "“package ‘parsnip’ was built under R version 4.0.2”\n",
      "Warning message:\n",
      "“package ‘recipes’ was built under R version 4.0.1”\n",
      "Warning message:\n",
      "“package ‘tune’ was built under R version 4.0.2”\n",
      "Warning message:\n",
      "“package ‘workflows’ was built under R version 4.0.2”\n",
      "Warning message:\n",
      "“package ‘yardstick’ was built under R version 4.0.2”\n",
      "── \u001b[1mConflicts\u001b[22m ───────────────────────────────────────── tidymodels_conflicts() ──\n",
      "\u001b[31m✖\u001b[39m \u001b[34mscales\u001b[39m::\u001b[32mdiscard()\u001b[39m masks \u001b[34mpurrr\u001b[39m::discard()\n",
      "\u001b[31m✖\u001b[39m \u001b[34mdplyr\u001b[39m::\u001b[32mfilter()\u001b[39m   masks \u001b[34mstats\u001b[39m::filter()\n",
      "\u001b[31m✖\u001b[39m \u001b[34mrecipes\u001b[39m::\u001b[32mfixed()\u001b[39m  masks \u001b[34mstringr\u001b[39m::fixed()\n",
      "\u001b[31m✖\u001b[39m \u001b[34mdplyr\u001b[39m::\u001b[32mlag()\u001b[39m      masks \u001b[34mstats\u001b[39m::lag()\n",
      "\u001b[31m✖\u001b[39m \u001b[34myardstick\u001b[39m::\u001b[32mspec()\u001b[39m masks \u001b[34mreadr\u001b[39m::spec()\n",
      "\u001b[31m✖\u001b[39m \u001b[34mrecipes\u001b[39m::\u001b[32mstep()\u001b[39m   masks \u001b[34mstats\u001b[39m::step()\n",
      "\n",
      "Warning message in set.seed(695624153456):\n",
      "“NAs introduced by coercion to integer range”\n"
     ]
    },
    {
     "ename": "ERROR",
     "evalue": "Error in set.seed(695624153456): supplied seed is not a valid integer\n",
     "output_type": "error",
     "traceback": [
      "Error in set.seed(695624153456): supplied seed is not a valid integer\nTraceback:\n",
      "1. set.seed(695624153456)"
     ]
    }
   ],
   "source": [
    "library(tidyverse)\n",
    "library(tidymodels)\n",
    "download.file('https://archive.ics.uci.edu/ml/machine-learning-databases/abalone/abalone.data', 'data.csv')\n",
    "set.seed(695624153456)"
   ]
  },
  {
   "cell_type": "markdown",
   "metadata": {},
   "source": [
    "## Loading and wrangling data"
   ]
  },
  {
   "cell_type": "code",
   "execution_count": 5,
   "metadata": {},
   "outputs": [
    {
     "name": "stderr",
     "output_type": "stream",
     "text": [
      "Parsed with column specification:\n",
      "cols(\n",
      "  sex = \u001b[31mcol_character()\u001b[39m,\n",
      "  length = \u001b[32mcol_double()\u001b[39m,\n",
      "  diameter = \u001b[32mcol_double()\u001b[39m,\n",
      "  height = \u001b[32mcol_double()\u001b[39m,\n",
      "  whole_weight = \u001b[32mcol_double()\u001b[39m,\n",
      "  shucked_weight = \u001b[32mcol_double()\u001b[39m,\n",
      "  viscera_weight = \u001b[32mcol_double()\u001b[39m,\n",
      "  shell_weight = \u001b[32mcol_double()\u001b[39m,\n",
      "  rings = \u001b[32mcol_double()\u001b[39m\n",
      ")\n",
      "\n"
     ]
    }
   ],
   "source": [
    "abalone <- read_csv('data.csv', col_names = c(\n",
    "    'sex',\n",
    "    'length',\n",
    "    'diameter',\n",
    "    'height',\n",
    "    'whole_weight',\n",
    "    'shucked_weight',\n",
    "    'viscera_weight',\n",
    "    'shell_weight',\n",
    "    'rings'\n",
    "))\n",
    "\n",
    "abalone <- abalone %>%\n",
    "    mutate(sex = as_factor(sex)) %>%\n",
    "    mutate(age = rings + 1.5)\n",
    "abalone_split <- initial_split(abalone, prop = 0.75, strata = age)\n",
    "abalone_training <- training(abalone_split)\n",
    "abalone_testing <- testing(abalone_split)"
   ]
  },
  {
   "cell_type": "markdown",
   "metadata": {},
   "source": [
    "## Summarization"
   ]
  },
  {
   "cell_type": "markdown",
   "metadata": {},
   "source": [
    "Table 1: The number of each amount of rings present in the dataset (mean = 9.934). This is the variable which we aim to predict."
   ]
  },
  {
   "cell_type": "code",
   "execution_count": 16,
   "metadata": {},
   "outputs": [
    {
     "name": "stderr",
     "output_type": "stream",
     "text": [
      "`summarise()` ungrouping output (override with `.groups` argument)\n",
      "\n"
     ]
    },
    {
     "data": {
      "text/html": [
       "<table>\n",
       "<caption>A tibble: 28 × 2</caption>\n",
       "<thead>\n",
       "\t<tr><th scope=col>rings</th><th scope=col>n</th></tr>\n",
       "\t<tr><th scope=col>&lt;dbl&gt;</th><th scope=col>&lt;int&gt;</th></tr>\n",
       "</thead>\n",
       "<tbody>\n",
       "\t<tr><td> 1</td><td>  1</td></tr>\n",
       "\t<tr><td> 2</td><td>  1</td></tr>\n",
       "\t<tr><td> 3</td><td> 15</td></tr>\n",
       "\t<tr><td> 4</td><td> 57</td></tr>\n",
       "\t<tr><td> 5</td><td>115</td></tr>\n",
       "\t<tr><td> 6</td><td>259</td></tr>\n",
       "\t<tr><td> 7</td><td>391</td></tr>\n",
       "\t<tr><td> 8</td><td>568</td></tr>\n",
       "\t<tr><td> 9</td><td>689</td></tr>\n",
       "\t<tr><td>10</td><td>634</td></tr>\n",
       "\t<tr><td>11</td><td>487</td></tr>\n",
       "\t<tr><td>12</td><td>267</td></tr>\n",
       "\t<tr><td>13</td><td>203</td></tr>\n",
       "\t<tr><td>14</td><td>126</td></tr>\n",
       "\t<tr><td>15</td><td>103</td></tr>\n",
       "\t<tr><td>16</td><td> 67</td></tr>\n",
       "\t<tr><td>17</td><td> 58</td></tr>\n",
       "\t<tr><td>18</td><td> 42</td></tr>\n",
       "\t<tr><td>19</td><td> 32</td></tr>\n",
       "\t<tr><td>20</td><td> 26</td></tr>\n",
       "\t<tr><td>21</td><td> 14</td></tr>\n",
       "\t<tr><td>22</td><td>  6</td></tr>\n",
       "\t<tr><td>23</td><td>  9</td></tr>\n",
       "\t<tr><td>24</td><td>  2</td></tr>\n",
       "\t<tr><td>25</td><td>  1</td></tr>\n",
       "\t<tr><td>26</td><td>  1</td></tr>\n",
       "\t<tr><td>27</td><td>  2</td></tr>\n",
       "\t<tr><td>29</td><td>  1</td></tr>\n",
       "</tbody>\n",
       "</table>\n"
      ],
      "text/latex": [
       "A tibble: 28 × 2\n",
       "\\begin{tabular}{ll}\n",
       " rings & n\\\\\n",
       " <dbl> & <int>\\\\\n",
       "\\hline\n",
       "\t  1 &   1\\\\\n",
       "\t  2 &   1\\\\\n",
       "\t  3 &  15\\\\\n",
       "\t  4 &  57\\\\\n",
       "\t  5 & 115\\\\\n",
       "\t  6 & 259\\\\\n",
       "\t  7 & 391\\\\\n",
       "\t  8 & 568\\\\\n",
       "\t  9 & 689\\\\\n",
       "\t 10 & 634\\\\\n",
       "\t 11 & 487\\\\\n",
       "\t 12 & 267\\\\\n",
       "\t 13 & 203\\\\\n",
       "\t 14 & 126\\\\\n",
       "\t 15 & 103\\\\\n",
       "\t 16 &  67\\\\\n",
       "\t 17 &  58\\\\\n",
       "\t 18 &  42\\\\\n",
       "\t 19 &  32\\\\\n",
       "\t 20 &  26\\\\\n",
       "\t 21 &  14\\\\\n",
       "\t 22 &   6\\\\\n",
       "\t 23 &   9\\\\\n",
       "\t 24 &   2\\\\\n",
       "\t 25 &   1\\\\\n",
       "\t 26 &   1\\\\\n",
       "\t 27 &   2\\\\\n",
       "\t 29 &   1\\\\\n",
       "\\end{tabular}\n"
      ],
      "text/markdown": [
       "\n",
       "A tibble: 28 × 2\n",
       "\n",
       "| rings &lt;dbl&gt; | n &lt;int&gt; |\n",
       "|---|---|\n",
       "|  1 |   1 |\n",
       "|  2 |   1 |\n",
       "|  3 |  15 |\n",
       "|  4 |  57 |\n",
       "|  5 | 115 |\n",
       "|  6 | 259 |\n",
       "|  7 | 391 |\n",
       "|  8 | 568 |\n",
       "|  9 | 689 |\n",
       "| 10 | 634 |\n",
       "| 11 | 487 |\n",
       "| 12 | 267 |\n",
       "| 13 | 203 |\n",
       "| 14 | 126 |\n",
       "| 15 | 103 |\n",
       "| 16 |  67 |\n",
       "| 17 |  58 |\n",
       "| 18 |  42 |\n",
       "| 19 |  32 |\n",
       "| 20 |  26 |\n",
       "| 21 |  14 |\n",
       "| 22 |   6 |\n",
       "| 23 |   9 |\n",
       "| 24 |   2 |\n",
       "| 25 |   1 |\n",
       "| 26 |   1 |\n",
       "| 27 |   2 |\n",
       "| 29 |   1 |\n",
       "\n"
      ],
      "text/plain": [
       "   rings n  \n",
       "1   1      1\n",
       "2   2      1\n",
       "3   3     15\n",
       "4   4     57\n",
       "5   5    115\n",
       "6   6    259\n",
       "7   7    391\n",
       "8   8    568\n",
       "9   9    689\n",
       "10 10    634\n",
       "11 11    487\n",
       "12 12    267\n",
       "13 13    203\n",
       "14 14    126\n",
       "15 15    103\n",
       "16 16     67\n",
       "17 17     58\n",
       "18 18     42\n",
       "19 19     32\n",
       "20 20     26\n",
       "21 21     14\n",
       "22 22      6\n",
       "23 23      9\n",
       "24 24      2\n",
       "25 25      1\n",
       "26 26      1\n",
       "27 27      2\n",
       "28 29      1"
      ]
     },
     "metadata": {},
     "output_type": "display_data"
    }
   ],
   "source": [
    "age_counts <- abalone %>%\n",
    "    group_by(rings) %>%\n",
    "    summarize(n = n())\n",
    "age_counts"
   ]
  },
  {
   "cell_type": "markdown",
   "metadata": {},
   "source": [
    "Table 2: The mean values of each numerical predictor in the data set."
   ]
  },
  {
   "cell_type": "code",
   "execution_count": 17,
   "metadata": {},
   "outputs": [
    {
     "data": {
      "text/html": [
       "<table>\n",
       "<caption>A tibble: 1 × 7</caption>\n",
       "<thead>\n",
       "\t<tr><th scope=col>length</th><th scope=col>diameter</th><th scope=col>height</th><th scope=col>whole_weight</th><th scope=col>shucked_weight</th><th scope=col>viscera_weight</th><th scope=col>shell_weight</th></tr>\n",
       "\t<tr><th scope=col>&lt;dbl&gt;</th><th scope=col>&lt;dbl&gt;</th><th scope=col>&lt;dbl&gt;</th><th scope=col>&lt;dbl&gt;</th><th scope=col>&lt;dbl&gt;</th><th scope=col>&lt;dbl&gt;</th><th scope=col>&lt;dbl&gt;</th></tr>\n",
       "</thead>\n",
       "<tbody>\n",
       "\t<tr><td>0.5239921</td><td>0.4078813</td><td>0.1395164</td><td>0.8287422</td><td>0.3593675</td><td>0.1805936</td><td>0.2388309</td></tr>\n",
       "</tbody>\n",
       "</table>\n"
      ],
      "text/latex": [
       "A tibble: 1 × 7\n",
       "\\begin{tabular}{lllllll}\n",
       " length & diameter & height & whole\\_weight & shucked\\_weight & viscera\\_weight & shell\\_weight\\\\\n",
       " <dbl> & <dbl> & <dbl> & <dbl> & <dbl> & <dbl> & <dbl>\\\\\n",
       "\\hline\n",
       "\t 0.5239921 & 0.4078813 & 0.1395164 & 0.8287422 & 0.3593675 & 0.1805936 & 0.2388309\\\\\n",
       "\\end{tabular}\n"
      ],
      "text/markdown": [
       "\n",
       "A tibble: 1 × 7\n",
       "\n",
       "| length &lt;dbl&gt; | diameter &lt;dbl&gt; | height &lt;dbl&gt; | whole_weight &lt;dbl&gt; | shucked_weight &lt;dbl&gt; | viscera_weight &lt;dbl&gt; | shell_weight &lt;dbl&gt; |\n",
       "|---|---|---|---|---|---|---|\n",
       "| 0.5239921 | 0.4078813 | 0.1395164 | 0.8287422 | 0.3593675 | 0.1805936 | 0.2388309 |\n",
       "\n"
      ],
      "text/plain": [
       "  length    diameter  height    whole_weight shucked_weight viscera_weight\n",
       "1 0.5239921 0.4078813 0.1395164 0.8287422    0.3593675      0.1805936     \n",
       "  shell_weight\n",
       "1 0.2388309   "
      ]
     },
     "metadata": {},
     "output_type": "display_data"
    }
   ],
   "source": [
    "predictor_means <- abalone %>%\n",
    "    select(-rings) %>%\n",
    "    summarize(across(length:shell_weight, mean))\n",
    "predictor_means"
   ]
  },
  {
   "cell_type": "markdown",
   "metadata": {},
   "source": [
    "Table 3: The mean values of each predictor with regards to sex of the abalone. From this table we observe that females are generally slightly larger and heavier than males, and both are larger and heavier than infants."
   ]
  },
  {
   "cell_type": "code",
   "execution_count": 20,
   "metadata": {},
   "outputs": [
    {
     "name": "stderr",
     "output_type": "stream",
     "text": [
      "`summarise()` ungrouping output (override with `.groups` argument)\n",
      "\n"
     ]
    },
    {
     "data": {
      "text/html": [
       "<table>\n",
       "<caption>A tibble: 3 × 8</caption>\n",
       "<thead>\n",
       "\t<tr><th scope=col>sex</th><th scope=col>length</th><th scope=col>diameter</th><th scope=col>height</th><th scope=col>whole_weight</th><th scope=col>shucked_weight</th><th scope=col>viscera_weight</th><th scope=col>shell_weight</th></tr>\n",
       "\t<tr><th scope=col>&lt;fct&gt;</th><th scope=col>&lt;dbl&gt;</th><th scope=col>&lt;dbl&gt;</th><th scope=col>&lt;dbl&gt;</th><th scope=col>&lt;dbl&gt;</th><th scope=col>&lt;dbl&gt;</th><th scope=col>&lt;dbl&gt;</th><th scope=col>&lt;dbl&gt;</th></tr>\n",
       "</thead>\n",
       "<tbody>\n",
       "\t<tr><td>M</td><td>0.5613907</td><td>0.4392866</td><td>0.1513809</td><td>0.9914594</td><td>0.4329460</td><td>0.21554450</td><td>0.2819692</td></tr>\n",
       "\t<tr><td>F</td><td>0.5790933</td><td>0.4547322</td><td>0.1580107</td><td>1.0465321</td><td>0.4461878</td><td>0.23068860</td><td>0.3020099</td></tr>\n",
       "\t<tr><td>I</td><td>0.4277459</td><td>0.3264940</td><td>0.1079955</td><td>0.4313625</td><td>0.1910350</td><td>0.09201006</td><td>0.1281822</td></tr>\n",
       "</tbody>\n",
       "</table>\n"
      ],
      "text/latex": [
       "A tibble: 3 × 8\n",
       "\\begin{tabular}{llllllll}\n",
       " sex & length & diameter & height & whole\\_weight & shucked\\_weight & viscera\\_weight & shell\\_weight\\\\\n",
       " <fct> & <dbl> & <dbl> & <dbl> & <dbl> & <dbl> & <dbl> & <dbl>\\\\\n",
       "\\hline\n",
       "\t M & 0.5613907 & 0.4392866 & 0.1513809 & 0.9914594 & 0.4329460 & 0.21554450 & 0.2819692\\\\\n",
       "\t F & 0.5790933 & 0.4547322 & 0.1580107 & 1.0465321 & 0.4461878 & 0.23068860 & 0.3020099\\\\\n",
       "\t I & 0.4277459 & 0.3264940 & 0.1079955 & 0.4313625 & 0.1910350 & 0.09201006 & 0.1281822\\\\\n",
       "\\end{tabular}\n"
      ],
      "text/markdown": [
       "\n",
       "A tibble: 3 × 8\n",
       "\n",
       "| sex &lt;fct&gt; | length &lt;dbl&gt; | diameter &lt;dbl&gt; | height &lt;dbl&gt; | whole_weight &lt;dbl&gt; | shucked_weight &lt;dbl&gt; | viscera_weight &lt;dbl&gt; | shell_weight &lt;dbl&gt; |\n",
       "|---|---|---|---|---|---|---|---|\n",
       "| M | 0.5613907 | 0.4392866 | 0.1513809 | 0.9914594 | 0.4329460 | 0.21554450 | 0.2819692 |\n",
       "| F | 0.5790933 | 0.4547322 | 0.1580107 | 1.0465321 | 0.4461878 | 0.23068860 | 0.3020099 |\n",
       "| I | 0.4277459 | 0.3264940 | 0.1079955 | 0.4313625 | 0.1910350 | 0.09201006 | 0.1281822 |\n",
       "\n"
      ],
      "text/plain": [
       "  sex length    diameter  height    whole_weight shucked_weight viscera_weight\n",
       "1 M   0.5613907 0.4392866 0.1513809 0.9914594    0.4329460      0.21554450    \n",
       "2 F   0.5790933 0.4547322 0.1580107 1.0465321    0.4461878      0.23068860    \n",
       "3 I   0.4277459 0.3264940 0.1079955 0.4313625    0.1910350      0.09201006    \n",
       "  shell_weight\n",
       "1 0.2819692   \n",
       "2 0.3020099   \n",
       "3 0.1281822   "
      ]
     },
     "metadata": {},
     "output_type": "display_data"
    }
   ],
   "source": [
    "sex_means <- abalone %>%\n",
    "    group_by(sex) %>%\n",
    "    summarize(across(length:shell_weight, mean))\n",
    "sex_means"
   ]
  },
  {
   "cell_type": "markdown",
   "metadata": {},
   "source": [
    "## Visualization"
   ]
  },
  {
   "cell_type": "markdown",
   "metadata": {},
   "source": [
    "## Methods"
   ]
  },
  {
   "cell_type": "markdown",
   "metadata": {},
   "source": [
    "## Expected Outcomes"
   ]
  },
  {
   "cell_type": "markdown",
   "metadata": {},
   "source": [
    "We expect to find that older abalone should be larger and heavier than other younger abalone of the same sex as older abalone have more time to grow. The ability to predict the age of an abalone without needing to cut open the shell, stain it, and count the number of rings under a microscope can help scientists save time when performing research on abalone. This will, in theory, allow for more complex and extensive research on the species as collecting essential measurements will be less labor intensive.\n"
   ]
  },
  {
   "cell_type": "code",
   "execution_count": null,
   "metadata": {},
   "outputs": [],
   "source": []
  }
 ],
 "metadata": {
  "kernelspec": {
   "display_name": "R",
   "language": "R",
   "name": "ir"
  },
  "language_info": {
   "codemirror_mode": "r",
   "file_extension": ".r",
   "mimetype": "text/x-r-source",
   "name": "R",
   "pygments_lexer": "r",
   "version": "4.0.0"
  }
 },
 "nbformat": 4,
 "nbformat_minor": 4
}
