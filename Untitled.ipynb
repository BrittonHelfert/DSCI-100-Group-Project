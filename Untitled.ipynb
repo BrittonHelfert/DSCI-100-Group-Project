{
 "cells": [
  {
   "cell_type": "markdown",
   "metadata": {},
   "source": [
    "# Predicting Abalone Age\n",
    "\n",
    "Abalones are a rare type of marine snail found in cold coastal saltwater and highly valued for their culinary uses. The common name abalone refers to a number of large gastropod molluscs in the family *Haliotidae*. It’s popularity as a culinary delicacy has caused great pressure on the species due to overharvesting, in turn rendering it even rarer and more expensive. Assessing the age of these organisms, whether for purposes of conservation, harvesting, or research, is a tedious task that requires cutting open the snail’s shell, staining it, and counting the individual rings. For this reason, we wish to design a model that will **predict the age of abalones** through other measurements, such as physical dimensions and weight, using regression.\n",
    "\n",
    "The dataset we will use contains 4,177 observations and 9 columns: sex (either M, F, or I for infant), length in mm, diameter in mm, height in mm, whole weight in grams, shucked weight in grams (without shell), viscera weight in grams (after bleeding), shell weight in grams, and finally number of rings, which is approximately 1.5 less than the age of the snail. After the design of the model, we will evaluate the accuracy of our predictions to answer the question: how well can we predict the age of an abalone snail from its size, sex, and weight?"
   ]
  },
  {
   "cell_type": "code",
   "execution_count": 1,
   "metadata": {},
   "outputs": [],
   "source": [
    "download.file('https://archive.ics.uci.edu/ml/machine-learning-databases/abalone/abalone.data', 'data.csv')\n",
    "download.file('https://archive.ics.uci.edu/ml/machine-learning-databases/abalone/abalone.names', 'names.csv')"
   ]
  }
 ],
 "metadata": {
  "kernelspec": {
   "display_name": "R",
   "language": "R",
   "name": "ir"
  },
  "language_info": {
   "codemirror_mode": "r",
   "file_extension": ".r",
   "mimetype": "text/x-r-source",
   "name": "R",
   "pygments_lexer": "r",
   "version": "4.0.0"
  }
 },
 "nbformat": 4,
 "nbformat_minor": 4
}
